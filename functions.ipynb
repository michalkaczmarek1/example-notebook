{
 "cells": [
  {
   "cell_type": "markdown",
   "id": "d2ff9eb0",
   "metadata": {},
   "source": [
    "Uzywamy słowa def a nastepnie :"
   ]
  },
  {
   "cell_type": "code",
   "execution_count": 3,
   "id": "f4b0dea6",
   "metadata": {},
   "outputs": [],
   "source": [
    "def add(a, b):\n",
    "    return a + b"
   ]
  },
  {
   "cell_type": "markdown",
   "id": "7a7b615f",
   "metadata": {},
   "source": [
    "wywołujemy funkcje poprzez uzycie nazwy i nawiasów okrąglych"
   ]
  },
  {
   "cell_type": "code",
   "execution_count": 4,
   "id": "2bea0a7a",
   "metadata": {},
   "outputs": [
    {
     "data": {
      "text/plain": [
       "7"
      ]
     },
     "execution_count": 4,
     "metadata": {},
     "output_type": "execute_result"
    }
   ],
   "source": [
    "add(2, 5)"
   ]
  }
 ],
 "metadata": {
  "kernelspec": {
   "display_name": "Python 3 (ipykernel)",
   "language": "python",
   "name": "python3"
  },
  "language_info": {
   "codemirror_mode": {
    "name": "ipython",
    "version": 3
   },
   "file_extension": ".py",
   "mimetype": "text/x-python",
   "name": "python",
   "nbconvert_exporter": "python",
   "pygments_lexer": "ipython3",
   "version": "3.11.5"
  }
 },
 "nbformat": 4,
 "nbformat_minor": 5
}
